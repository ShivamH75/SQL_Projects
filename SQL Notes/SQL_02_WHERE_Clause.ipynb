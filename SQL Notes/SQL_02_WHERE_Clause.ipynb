{
 "cells": [
  {
   "cell_type": "code",
   "execution_count": null,
   "id": "c8ada6b7-b5af-41e8-ab26-45029cbdfe2c",
   "metadata": {},
   "outputs": [],
   "source": [
    "# import required libraries\n",
    "import sqlite3\n",
    "\n",
    "# load the sql module to iPython\n",
    "%load_ext sql\n",
    "\n",
    "# something called as 'Cell Magic' concept\n",
    "\n",
    "# load the database file here\n",
    "%sql sqlite:///WSDA_Music.db"
   ]
  },
  {
   "cell_type": "markdown",
   "id": "eddcbeb9-197c-499c-a52e-fe0d5a7bea36",
   "metadata": {},
   "source": [
    "#Start running the SQL queries from cell below.\n",
    "Mention the %%sql before each query."
   ]
  },
  {
   "attachments": {},
   "cell_type": "markdown",
   "id": "bac30785-3d14-494b-8577-fee95ff298d0",
   "metadata": {},
   "source": [
    "Type of SQL operators\n",
    "A. Arithmetic \n",
    "1. Add +\n",
    "2. Subtract -\n",
    "3. Multiply *\n",
    "4. Divide /\n",
    "5. Modulo %\n",
    "\n",
    "B. Comparison\n",
    "1. Equal to: =\n",
    "2. Not equal to: <>\n",
    "3. Greater than: >\n",
    "4. Less than: <\n",
    "5. Greater than equal to: >=\n",
    "6. Less than equal to: <=\n",
    "\n",
    "C. Logical\n",
    "1. AND\n",
    "2. OR\n",
    "3. IN\n",
    "4. LIKE\n",
    "5. BETWEEN"
   ]
  },
  {
   "cell_type": "markdown",
   "id": "18120617-df0b-4ea0-8ee9-61785cf49fa5",
   "metadata": {},
   "source": [
    "WHERE Clause\n",
    "\n",
    "Q1: How many customers purchased two songs at $0.99 each?\n",
    "Ans: We need to find count of customers whose Total will become (2 * 0.98)"
   ]
  },
  {
   "cell_type": "code",
   "execution_count": null,
   "id": "10668793-5b8e-40ac-b296-4f3c4a9543b9",
   "metadata": {},
   "outputs": [],
   "source": [
    "%%sql\n",
    "\n",
    "SELECT CustomerId, BillingAddress, total , InvoiceDate\n",
    "FROM Invoice\n",
    "WHERE total = 1.98\n",
    "ORDER BY InvoiceDate"
   ]
  },
  {
   "cell_type": "markdown",
   "id": "64d52e5a-a56d-4f24-b657-c1f3e3474fd8",
   "metadata": {},
   "source": [
    "BETWEEN and IN\n",
    "\n",
    "Q2: How many invoices exist between 1.98 and 5.00$?\n",
    "Ans: use BETWEEN x AND y query"
   ]
  },
  {
   "cell_type": "code",
   "execution_count": null,
   "id": "af0994b6-8ecd-414c-ab3c-a64725114717",
   "metadata": {},
   "outputs": [],
   "source": [
    "%%sql\n",
    "\n",
    "SELECT CustomerId, BillingAddress, total , InvoiceDate\n",
    "FROM Invoice\n",
    "WHERE total between 1.98 AND 5.00\n",
    "ORDER BY InvoiceDate"
   ]
  },
  {
   "cell_type": "code",
   "execution_count": null,
   "id": "4c156591-6a67-42fb-ba4f-502dd76fcd27",
   "metadata": {},
   "outputs": [],
   "source": [
    "Find exact search of multiple values: IN\n",
    "\n",
    "Q2: How many invoices are exactly $1.98 or $3.96?\n",
    "Ans: fieldName IN (vaalue1, value2)"
   ]
  },
  {
   "cell_type": "code",
   "execution_count": null,
   "id": "be60923b-c61d-4531-9756-d4c610cccacb",
   "metadata": {},
   "outputs": [],
   "source": [
    "%%sql\n",
    "\n",
    "SELECT CustomerId, BillingAddress, BillingCity, total , InvoiceDate\n",
    "FROM Invoice\n",
    "WHERE total IN (1.98, 3.96)\n",
    "ORDER BY InvoiceDate"
   ]
  },
  {
   "cell_type": "markdown",
   "id": "411112f1-554a-4254-b4d1-5f52e0dffe22",
   "metadata": {},
   "source": [
    "Query on text data:\n",
    "\n",
    "Q3: How many invoices were billed in Brussels city?\n",
    "Answer: Using the query WHERE fieldName = 'value'"
   ]
  },
  {
   "cell_type": "code",
   "execution_count": null,
   "id": "b98d5224-97e6-44cb-a919-c6a3280e2568",
   "metadata": {},
   "outputs": [],
   "source": [
    "%%sql\n",
    "\n",
    "SELECT CustomerId, BillingAddress, BillingCity, total , InvoiceDate\n",
    "FROM Invoice\n",
    "WHERE BillingCity = 'Brussels'\n",
    "ORDER BY InvoiceDate"
   ]
  },
  {
   "cell_type": "markdown",
   "id": "b268fcba-778e-4c1e-8886-6e4815a3dc47",
   "metadata": {},
   "source": [
    "Query on text data:\n",
    "\n",
    "Q4: How many invoices were billed in Brussels, Orelando, Paris cities?\n",
    "Answer: WHERE fieldName IN ('value1', 'value2')"
   ]
  },
  {
   "cell_type": "code",
   "execution_count": null,
   "id": "9969ae28-0a7b-4836-8c34-6f47e71f21ea",
   "metadata": {},
   "outputs": [],
   "source": [
    "%%sql\n",
    "\n",
    "SELECT CustomerId, BillingAddress, BillingCity, total , InvoiceDate\n",
    "FROM Invoice\n",
    "WHERE BillingCity IN ('Brussels', 'Paris')\n",
    "ORDER BY InvoiceDate"
   ]
  },
  {
   "cell_type": "markdown",
   "id": "ba47b49a-b98c-4895-806b-ad5bcef5d135",
   "metadata": {},
   "source": [
    "LIKE: Search Records without exact match\n",
    "\n",
    "Q5. How many invoices were from cities that Starts with 'B'\n",
    "Ans: use % after the B."
   ]
  },
  {
   "cell_type": "code",
   "execution_count": null,
   "id": "0b1e2ef6-d594-4f94-a380-0448154f2a6c",
   "metadata": {},
   "outputs": [],
   "source": [
    "%%sql\n",
    "\n",
    "SELECT CustomerId, BillingAddress, BillingCity, total , InvoiceDate\n",
    "FROM Invoice\n",
    "WHERE BillingCity LIKE 'B%'\n",
    "ORDER BY InvoiceDate"
   ]
  },
  {
   "cell_type": "markdown",
   "id": "66e670f6-28b8-492f-b608-3539fd1e2d36",
   "metadata": {},
   "source": [
    "LIKE: Search letter that will occur anywhere in values\n",
    "\n",
    "Q6. How many invoices were from cities that might have the value 'B'\n",
    "Ans: use %  before and after the B.\n",
    "NOTE: it will ignore the case of the entered word."
   ]
  },
  {
   "cell_type": "code",
   "execution_count": null,
   "id": "c1ff081d-ac32-4697-ab1a-fad72428c9cd",
   "metadata": {},
   "outputs": [],
   "source": [
    "%%sql\n",
    "\n",
    "SELECT CustomerId, BillingAddress, BillingCity, total , InvoiceDate\n",
    "FROM Invoice\n",
    "WHERE BillingCity LIKE '%B%'\n",
    "ORDER BY InvoiceDate"
   ]
  },
  {
   "cell_type": "markdown",
   "id": "b8d7a562-40c6-4874-9ab0-053312ccacd7",
   "metadata": {},
   "source": [
    "Date analysis\n",
    "# If entity format is DATETIME, we can use DATE to filter as per date and TIME to filter as per time\n",
    "\n",
    "Q. How many invoices were processed on 2010-05-22 00:00:00?\n"
   ]
  },
  {
   "cell_type": "code",
   "execution_count": null,
   "id": "15cdbcd5-db54-43b8-806e-7206cf860d73",
   "metadata": {},
   "outputs": [],
   "source": [
    "%%sql\n",
    "\n",
    "SELECT CustomerId, BillingAddress, BillingCity, total , InvoiceDate\n",
    "FROM Invoice\n",
    "WHERE InvoiceDate = '2010-05-22 00:00:00'\n",
    "ORDER BY InvoiceDate"
   ]
  },
  {
   "cell_type": "code",
   "execution_count": null,
   "id": "226fb8e9-419e-4872-9632-014cec630961",
   "metadata": {},
   "outputs": [],
   "source": [
    "%%sql\n",
    "\n",
    "SELECT CustomerId, BillingAddress, BillingCity, total , InvoiceDate\n",
    "FROM Invoice\n",
    "WHERE DATE(InvoiceDate) = '2010-05-22'\n",
    "ORDER BY InvoiceDate"
   ]
  },
  {
   "cell_type": "markdown",
   "id": "50c10567-4252-4b03-a68b-cf0709796115",
   "metadata": {},
   "source": [
    "Using AND clause to include multiple conditions\n",
    "Q. get all invoices after 2010-05-22 and have a total of less than 3.00"
   ]
  },
  {
   "cell_type": "code",
   "execution_count": null,
   "id": "b2ce0061-fe22-4fee-8f1e-2438b59b48db",
   "metadata": {},
   "outputs": [],
   "source": [
    "%%sql\n",
    "\n",
    "SELECT CustomerId, BillingAddress, BillingCity, total , InvoiceDate\n",
    "FROM Invoice\n",
    "WHERE DATE(InvoiceDate) > '2010-05-22' AND total < 3.00\n",
    "ORDER BY InvoiceDate"
   ]
  },
  {
   "cell_type": "markdown",
   "id": "1df7001e-6c63-4934-9378-cc49393ca42f",
   "metadata": {},
   "source": [
    "OR clause to get result of either of the filter\n",
    "\n",
    "Q. get all invoices whos billing city starts with 'p' or starts with 'd'"
   ]
  },
  {
   "cell_type": "code",
   "execution_count": null,
   "id": "08c60a49-1c6b-4508-9687-78b35926adcd",
   "metadata": {},
   "outputs": [],
   "source": [
    "%%sql\n",
    "\n",
    "SELECT CustomerId, BillingAddress, BillingCity, total , InvoiceDate\n",
    "FROM Invoice\n",
    "WHERE BillingCity LIKE 'p%' OR BillingCity LIKE 'd%'\n",
    "ORDER BY InvoiceDate"
   ]
  },
  {
   "cell_type": "markdown",
   "id": "9a5bb82e-2c8d-4621-ab2c-49326eca993c",
   "metadata": {},
   "source": [
    "Q. get all invoices that are greater than are greater than 1.98 from any cities that start with 'p' or 'd'\n",
    "\n",
    "PEMDAS: Parenthesis, Exponents, Multiplication, Division, Addition Subtraction\n",
    "BEMDAS: Brackets, Exponents, Multiplication, Division, Addition Subtraction"
   ]
  },
  {
   "cell_type": "code",
   "execution_count": null,
   "id": "fe07d712-2777-467a-b90d-de552c630695",
   "metadata": {},
   "outputs": [],
   "source": [
    "%%sql\n",
    "\n",
    "SELECT CustomerId, BillingAddress, BillingCity, total , InvoiceDate\n",
    "FROM Invoice\n",
    "WHERE Total > 1.98 AND (BillingCity LIKE 'p%' OR BillingCity LIKE 'd%')\n",
    "ORDER BY InvoiceDate"
   ]
  },
  {
   "cell_type": "markdown",
   "id": "6343d887-031c-4c75-8c93-b50d0e4117da",
   "metadata": {},
   "source": [
    "IF THEN logic with CASE\n",
    "\n",
    "Q. Music sale goal: as many customers as possible to spend between $7.00 and $15.00\n",
    "\n",
    "Sales Categories:\n",
    "Baseline Purchase - Between 0.99 and 1.98\n",
    "Low Purchase - Between 2.00 and 6.99\n",
    "Target Purchase - Between 7.00 and 15.00 \n",
    "Top Performer - Above 15.00"
   ]
  },
  {
   "cell_type": "code",
   "execution_count": null,
   "id": "59d19a28-8750-4c72-9c68-7f99c2311014",
   "metadata": {},
   "outputs": [],
   "source": [
    "%%sql\n",
    "\n",
    "SELECT CustomerId, BillingAddress, BillingCity, total , InvoiceDate,\n",
    "CASE \n",
    "WHEN total < 2.00 THEN 'Baseline Purchase'\n",
    "WHEN total BETWEEN 2.00 AND 6.99 THEN 'Low Purchase'\n",
    "WHEN total BETWEEN 7.00 AND 15.00 THEN 'Target Purchase'\n",
    "ELSE 'Top Performer'\n",
    "END AS 'PurchaseType'\n",
    "\n",
    "FROM Invoice\n",
    "\n",
    "WHERE PurchaseType = 'Target Purchase'\n",
    "\n",
    "ORDER BY InvoiceDate"
   ]
  },
  {
   "cell_type": "code",
   "execution_count": null,
   "id": "3b99ae52-fe46-4454-b9d7-f0f27ed13096",
   "metadata": {},
   "outputs": [],
   "source": []
  }
 ],
 "metadata": {
  "kernelspec": {
   "display_name": "Python 3 (ipykernel)",
   "language": "python",
   "name": "python3"
  },
  "language_info": {
   "codemirror_mode": {
    "name": "ipython",
    "version": 3
   },
   "file_extension": ".py",
   "mimetype": "text/x-python",
   "name": "python",
   "nbconvert_exporter": "python",
   "pygments_lexer": "ipython3",
   "version": "3.11.4"
  }
 },
 "nbformat": 4,
 "nbformat_minor": 5
}
