{
 "cells": [
  {
   "cell_type": "code",
   "execution_count": null,
   "id": "c8ada6b7-b5af-41e8-ab26-45029cbdfe2c",
   "metadata": {},
   "outputs": [],
   "source": [
    "# import required libraries\n",
    "import sqlite3\n",
    "\n",
    "# load the sql module to iPython\n",
    "%load_ext sql\n",
    "\n",
    "# something called as 'Cell Magic' concept\n",
    "\n",
    "# load the database file here\n",
    "%sql sqlite:///WSDA_Music.db"
   ]
  },
  {
   "cell_type": "markdown",
   "id": "eddcbeb9-197c-499c-a52e-fe0d5a7bea36",
   "metadata": {},
   "source": [
    "#Start running the SQL queries from cell below.\n",
    "Mention the %%sql before each query."
   ]
  },
  {
   "cell_type": "markdown",
   "id": "94e60d3c-a4b4-40b4-9c12-b6c60cd6c318",
   "metadata": {},
   "source": [
    "#NESTED Query: A query wrapped inside of another query.\n",
    "aka - subquery."
   ]
  },
  {
   "cell_type": "markdown",
   "id": "9f8d90d0-caf6-4e68-9afa-39253f2c60db",
   "metadata": {},
   "source": [
    "Q. Gather data about all invoices that are less than this average.\n",
    "\n",
    ">>SELECT avg(total) from Invoice\n",
    "this Query will bring a single value of the average.\n",
    "Then we include this smaller query inside another query that will be fetching multiple results."
   ]
  },
  {
   "cell_type": "code",
   "execution_count": null,
   "id": "ff439908-aad3-40aa-9f18-914989c7224b",
   "metadata": {},
   "outputs": [],
   "source": [
    "%%sql \n",
    "\n",
    "SELECT \n",
    "\tInvoiceDate,\n",
    "\tBillingAddress,\n",
    "\tBillingCity,\n",
    "\ttotal\n",
    "FROM\n",
    "\tInvoice\n",
    "WHERE\n",
    "\ttotal < (SELECT avg(total) from Invoice)\n",
    "ORDER BY\n",
    "\ttotal DESC"
   ]
  },
  {
   "cell_type": "markdown",
   "id": "293cc84a-d4da-4c0d-a859-ba26d8650e6a",
   "metadata": {},
   "source": [
    "Aggregated Subqueries\n",
    "Q. how is each individual city performing against the global average sales?\n",
    "A. We re using GROUP BY which will give multiple records against each city."
   ]
  },
  {
   "cell_type": "code",
   "execution_count": null,
   "id": "3c4b362c-01b1-4da3-b678-5ec12eb7f0e4",
   "metadata": {},
   "outputs": [],
   "source": [
    "%%sql\n",
    "\n",
    "SELECT \n",
    "\tBillingAddress,\n",
    "\tBillingCity,\n",
    "\tavg(total) AS CITY_AVERAGE,\n",
    "\t(SELECT avg(total) FROM Invoice) AS GLOBAL_AVERAGE\t\n",
    "\n",
    "FROM\n",
    "\tInvoice\n",
    "\n",
    "GROUP BY\n",
    "\tBillingCity\n",
    "ORDER BY\n",
    "\tBillingCity"
   ]
  },
  {
   "cell_type": "markdown",
   "id": "da835017-a362-4f34-aebc-daff5d3747b8",
   "metadata": {},
   "source": [
    "Q. Subqueries without aggregate functions\n",
    "in the below query, all invoice dates are greater than the date on which invoiceID was 151"
   ]
  },
  {
   "cell_type": "code",
   "execution_count": null,
   "id": "8d037e26-6b42-4dd1-af9c-4b20ad64685e",
   "metadata": {},
   "outputs": [],
   "source": [
    "%%sql\n",
    "\n",
    "SELECT\n",
    "\tDATE(InvoiceDate),\n",
    "\tBillingAddress,\n",
    "\tBillingCity,\n",
    "\tInvoiceId\n",
    "FROM\n",
    "\tInvoice\n",
    "WHERE\n",
    "\tInvoiceDate > \n",
    "\t( SELECT InvoiceDate from Invoice WHERE InvoiceId = 151)"
   ]
  },
  {
   "cell_type": "markdown",
   "id": "9c302559-39a9-45b1-b7c4-57c2daa7ccfd",
   "metadata": {},
   "source": [
    "Q. returning multiple values from a subquery.\n",
    "A. we will be providing date values as input for WHERE clause.\n"
   ]
  },
  {
   "cell_type": "code",
   "execution_count": null,
   "id": "b0f4e362-fe50-443f-b5d9-254d043e0cbc",
   "metadata": {},
   "outputs": [],
   "source": [
    "%%sql\n",
    "\n",
    "SELECT\n",
    "\tInvoiceDate,\n",
    "\tBillingAddress,\n",
    "\tBillingCity\n",
    "FROM\n",
    "\tInvoice\n",
    "WHERE\n",
    "\tInvoiceDate IN \n",
    "\n",
    "(SELECT \n",
    "\tInvoiceDate\n",
    "\tFROM \n",
    "\tInvoice\n",
    "WHERE \n",
    "\tInvoiceId IN (251, 253, 254))"
   ]
  },
  {
   "cell_type": "markdown",
   "id": "a7a6c91d-074b-400a-9826-b281941ba7e3",
   "metadata": {},
   "source": [
    "Subqueries and DISTINCT\n",
    "Q. Which tracks are not selling?\n",
    "\n",
    ">> SELECT \tTrackI \r\n",
    "FR \r\n",
    "\tInvoiceL\n",
    "This will return the TrackIDs. then we need to find out which track ids are not in invoice\n",
    ">>\n",
    "\n",
    "DISTINCT: this keyword will give only unique records\n",
    "\n",
    "Then what info we got from InvoiceLine table, we will compare with trackID in Track table.ine"
   ]
  },
  {
   "cell_type": "code",
   "execution_count": null,
   "id": "962ad575-d575-4ace-94b9-dd7b2c1649bc",
   "metadata": {},
   "outputs": [],
   "source": [
    "%%sql\n",
    "\n",
    "SELECT \n",
    "\tTrackId AS [Tracks not Sold],\n",
    "\tComposer,\n",
    "\tName\n",
    "FROM Track\n",
    "WHERE\t\n",
    "\tTrackId NOT IN \n",
    "(SELECT\n",
    "\tDISTINCT TrackId\n",
    "FROM\n",
    "\tInvoiceLine)"
   ]
  }
 ],
 "metadata": {
  "kernelspec": {
   "display_name": "Python 3 (ipykernel)",
   "language": "python",
   "name": "python3"
  },
  "language_info": {
   "codemirror_mode": {
    "name": "ipython",
    "version": 3
   },
   "file_extension": ".py",
   "mimetype": "text/x-python",
   "name": "python",
   "nbconvert_exporter": "python",
   "pygments_lexer": "ipython3",
   "version": "3.11.4"
  }
 },
 "nbformat": 4,
 "nbformat_minor": 5
}
