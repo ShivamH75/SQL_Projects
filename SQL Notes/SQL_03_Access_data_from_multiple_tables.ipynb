{
 "cells": [
  {
   "cell_type": "code",
   "execution_count": null,
   "id": "c8ada6b7-b5af-41e8-ab26-45029cbdfe2c",
   "metadata": {},
   "outputs": [],
   "source": [
    "# import required libraries\n",
    "import sqlite3\n",
    "\n",
    "# load the sql module to iPython\n",
    "%load_ext sql\n",
    "\n",
    "# something called as 'Cell Magic' concept\n",
    "\n",
    "# load the database file here\n",
    "%sql sqlite:///WSDA_Music.db"
   ]
  },
  {
   "cell_type": "markdown",
   "id": "eddcbeb9-197c-499c-a52e-fe0d5a7bea36",
   "metadata": {},
   "source": [
    "#Start running the SQL queries from cell below.\n",
    "Mention the %%sql before each query."
   ]
  },
  {
   "cell_type": "markdown",
   "id": "cc7de1e1-1df9-4e69-a799-d396e59171a6",
   "metadata": {},
   "source": [
    "JOIN: command that combines fields from two or more tables of relational database\n",
    "\n",
    "Normalization: Process of distributing fields across related tables"
   ]
  },
  {
   "cell_type": "markdown",
   "id": "1a5af63c-0483-4e21-955d-33a472935f67",
   "metadata": {},
   "source": [
    "Join two tables - Invoice and Customer on the key 'CustomerId'"
   ]
  },
  {
   "cell_type": "code",
   "execution_count": null,
   "id": "80a4e614-b8d8-47b9-b789-2230ff98020a",
   "metadata": {},
   "outputs": [],
   "source": [
    "%%sql\n",
    "\n",
    "SELECT * from Invoice\n",
    "INNER JOIN Customer\n",
    "ON Invoice.CustomerId = Customer.CustomerId\n",
    "ORDER BY Customer.CustomerId"
   ]
  },
  {
   "cell_type": "markdown",
   "id": "0b87d2b0-aaf7-46a5-ac0c-be9c98d1525f",
   "metadata": {},
   "source": [
    "Using alias to fetch specific fields"
   ]
  },
  {
   "cell_type": "code",
   "execution_count": null,
   "id": "f20fe552-d2cb-4b9e-8757-dcebb95095ec",
   "metadata": {},
   "outputs": [],
   "source": [
    "%%sql\n",
    "\n",
    "SELECT inv.InvoiceId, inv.CustomerId, cus.FirstName, cus.LastName, DATE(inv.InvoiceDate) as i_InvDate, inv.Total\n",
    "\n",
    "FROM Invoice as inv\n",
    "INNER JOIN Customer as cus\n",
    "ON inv.CustomerId = cus.CustomerId\n",
    "ORDER BY inv.InvoiceId"
   ]
  },
  {
   "cell_type": "markdown",
   "id": "606129a2-1a20-41f2-9ed3-c2ed9b23b763",
   "metadata": {},
   "source": [
    "discrepancies between tables are handled with different type of joins\n",
    "\n",
    "1. inner join: returns matching data from both tables. any non-matching records are ignored in search results.\n",
    "\n",
    "2. Left outer join: returns all fields of left table and only-matching records from right table. remaining fields will be seen as NULL.\n",
    "\n",
    "3. RIGHT OUTER JOIN: returns records from right table and matching records from left table.\n",
    "   (returns most number of records?)"
   ]
  },
  {
   "cell_type": "code",
   "execution_count": null,
   "id": "2a944189-25c4-4939-94a5-86676bc22d7f",
   "metadata": {},
   "outputs": [],
   "source": [
    "%%sql\n",
    "\n",
    "SELECT inv.InvoiceId, cus.CustomerId, cus.FirstName, cus.LastName, DATE(inv.InvoiceDate) as i_InvDate, inv.Total\n",
    "\n",
    "FROM Invoice as inv\n",
    "LEFT OUTER JOIN Customer as cus\n",
    "ON inv.CustomerId = cus.CustomerId\n",
    "ORDER BY inv.InvoiceId"
   ]
  },
  {
   "cell_type": "markdown",
   "id": "f64fefaf-71a5-44c0-9d59-5e3b450f0e66",
   "metadata": {},
   "source": [
    "Joining multiple tables\n",
    "\n",
    "what employees are responsible for 10 highest individual sales?\n",
    "\n",
    "we have 3 tables. invoice, customer, employees.\n",
    "from invoice table, we have customerID that will help to join them both.\n",
    "then in customer table, we have SupportRep field that will help to join with employees table.\n",
    "Hence, we are able to join invoice table with employees table."
   ]
  },
  {
   "cell_type": "code",
   "execution_count": null,
   "id": "baba9179-4a50-4602-8dae-1551b036d625",
   "metadata": {},
   "outputs": [],
   "source": [
    "%%sql\n",
    "\n",
    "SELECT \n",
    "\te.EmployeeId,\n",
    "\tc.SupportRepId,\n",
    "\te.FirstName,\n",
    "\te.LastName,\n",
    "\ti.CustomerId,\n",
    "\tc.FirstName,\n",
    "\tc.LastName,\n",
    "\ti.total\n",
    "FROM Invoice as i\n",
    "INNER JOIN\n",
    "\tCustomer as c\n",
    "ON i.CustomerId = c.CustomerId\n",
    "INNER JOIN \n",
    "\tEmployee as e\n",
    "on c.SupportRepId = e.EmployeeId\n",
    "ORDER BY i.total DESC\n",
    "LIMIT 10"
   ]
  },
  {
   "cell_type": "code",
   "execution_count": null,
   "id": "5fc03fb9-c22a-461f-b204-2ee0739f10e8",
   "metadata": {},
   "outputs": [],
   "source": []
  }
 ],
 "metadata": {
  "kernelspec": {
   "display_name": "Python 3 (ipykernel)",
   "language": "python",
   "name": "python3"
  },
  "language_info": {
   "codemirror_mode": {
    "name": "ipython",
    "version": 3
   },
   "file_extension": ".py",
   "mimetype": "text/x-python",
   "name": "python",
   "nbconvert_exporter": "python",
   "pygments_lexer": "ipython3",
   "version": "3.11.4"
  }
 },
 "nbformat": 4,
 "nbformat_minor": 5
}