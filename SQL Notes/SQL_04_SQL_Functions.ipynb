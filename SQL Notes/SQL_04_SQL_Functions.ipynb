{
 "cells": [
  {
   "cell_type": "code",
   "execution_count": null,
   "id": "c8ada6b7-b5af-41e8-ab26-45029cbdfe2c",
   "metadata": {},
   "outputs": [],
   "source": [
    "# import required libraries\n",
    "import sqlite3\n",
    "\n",
    "# load the sql module to iPython\n",
    "%load_ext sql\n",
    "\n",
    "# something called as 'Cell Magic' concept\n",
    "\n",
    "# load the database file here\n",
    "%sql sqlite:///WSDA_Music.db"
   ]
  },
  {
   "cell_type": "markdown",
   "id": "eddcbeb9-197c-499c-a52e-fe0d5a7bea36",
   "metadata": {},
   "source": [
    "#Start running the SQL queries from cell below.\n",
    "Mention the %%sql before each query."
   ]
  },
  {
   "cell_type": "markdown",
   "id": "ba08f1cb-a1e6-4437-8275-c9d23c484175",
   "metadata": {},
   "source": [
    "TYPES OF SQL FUNCTIONS:\n",
    "A. Aggregate: turns a range of numbers onto a single point of data\n",
    "   1. MIN(): Returns minimum (smallest) value \n",
    "   2. MAX(): Returns maximum (largest) value\n",
    "   3. AUG(): Returns average (mean) value\n",
    "   4. COUNT(): Returns the count of rows of a given field\n",
    "   5. SUM(): Returns the sum of all value\n",
    "   6. ROUND(): reduce the number of digits after decimal. - ROUND(AVG(fieldname), number_of_digits_to_round-off)\n",
    "      \n",
    "B. STRING\n",
    "   1. UPPER(): Convert string into upper case\n",
    "   2. SUBSTR(): trim the string. Format - SUBSTR(name of the field, starting character, ending character)\n",
    "   3. INSTR()\n",
    "   4. LENGTH(): Return length of a string\n",
    "   5. LTRIM()\n",
    "   6. REPLACE()\n",
    "   7. TRIM()\n",
    "      \n",
    "C. DATE: Allows manipulation of data that is stored in various date and time functions\n",
    "   1. NOW(): Get the present date\n",
    "   2. DATETIME()\n",
    "   3. DATE()\n",
    "   4. JULIANDAY()\n",
    "   5. STRFTIME(): Format the date as required in any format. e.g. ('%Y/%m/%d', Date_field_name)\n",
    "   6. TIME()"
   ]
  },
  {
   "cell_type": "markdown",
   "id": "18608038-9e43-4110-8151-5599ff203c95",
   "metadata": {},
   "source": [
    "create a list of recipients of customers\n",
    "\n",
    "to join two fields use '||'\n",
    "eg. firstName || '.' || lastName\n",
    ">> firstName.lastName\n",
    "\n",
    "to convert output fields into lowercase\n",
    ">> LOWER(.... code ....)"
   ]
  },
  {
   "cell_type": "code",
   "execution_count": null,
   "id": "3ab66db4-dcb2-4af2-9770-678122646ce0",
   "metadata": {},
   "outputs": [],
   "source": [
    "%%sql \n",
    "\n",
    "SELECT FirstName, LastName, Country,\n",
    "Lower(FirstName || '.' || LastName || '@gmail.com') AS emailListUSA\n",
    "FROM Customer\n",
    "WHERE country = 'USA'"
   ]
  },
  {
   "cell_type": "markdown",
   "id": "24380bcb-d65e-4a25-b117-afb36c4f3361",
   "metadata": {},
   "source": [
    "TRUNCATE: shorten the string\n",
    "\n",
    "<!-- --trim the postalcode upto 5 starting digits -->"
   ]
  },
  {
   "cell_type": "code",
   "execution_count": null,
   "id": "3d542cd2-c84e-43e8-bf46-d3181c6f2153",
   "metadata": {},
   "outputs": [],
   "source": [
    "%%sql \n",
    "\n",
    "SELECT FirstName, LastName, Country,\n",
    "Lower(FirstName || '.' || LastName || '@gmail.com') AS emailListUSA,\n",
    "LENGTH(postalcode) as Len_post_code,\n",
    "substr(postalcode, 1,5) as NEW\n",
    "FROM Customer\n",
    "WHERE country = 'USA'"
   ]
  },
  {
   "cell_type": "markdown",
   "id": "3726fca3-ffb1-4e3b-aace-0dc102e291c8",
   "metadata": {},
   "source": [
    "Calculate ages of all employees\n",
    "NOTE: keep the format as YY-MM-DD to subtract two dates to get the age"
   ]
  },
  {
   "cell_type": "code",
   "execution_count": null,
   "id": "a14ad652-127e-49bf-a437-0410902bcf7e",
   "metadata": {},
   "outputs": [],
   "source": [
    "%%sql \n",
    "\n",
    "Select LastName, FirstName, BirthDate as OG_BirthDate,\n",
    "strftime('%d-%m-%Y', BirthDate) AS ModifiedDate,\n",
    "strftime('%Y-%m-%d', 'now') - strftime('%Y-%m-%d', BirthDate) AS EmployeeAge\n",
    "From employee"
   ]
  },
  {
   "cell_type": "code",
   "execution_count": null,
   "id": "68be9fb0-b6ab-467d-92ec-7636bbd5dbbb",
   "metadata": {},
   "outputs": [],
   "source": [
    "Use the aggregate functions on sales data\n",
    "\n",
    "# Range: The difference between the maximum and minimum values is the range."
   ]
  },
  {
   "cell_type": "code",
   "execution_count": 38,
   "id": "9b291d25-0249-41df-b950-b4212a84d887",
   "metadata": {},
   "outputs": [
    {
     "name": "stdout",
     "output_type": "stream",
     "text": [
      " * sqlite:///WSDA_Music.db\n",
      "Done.\n"
     ]
    },
    {
     "data": {
      "text/html": [
       "<table>\n",
       "    <thead>\n",
       "        <tr>\n",
       "            <th>Sum_OF_Invoice</th>\n",
       "            <th>Lowest_in_Invoice</th>\n",
       "            <th>Highest_in_Invoice</th>\n",
       "            <th>Mean_of_Invoice</th>\n",
       "            <th>Total_Items_in_Invoice</th>\n",
       "            <th>Range_of_Invoice</th>\n",
       "        </tr>\n",
       "    </thead>\n",
       "    <tbody>\n",
       "        <tr>\n",
       "            <td>3329.46</td>\n",
       "            <td>0.99</td>\n",
       "            <td>1000.86</td>\n",
       "            <td>8.0616</td>\n",
       "            <td>413</td>\n",
       "            <td>999.87</td>\n",
       "        </tr>\n",
       "    </tbody>\n",
       "</table>"
      ],
      "text/plain": [
       "[(3329.46, 0.99, 1000.86, 8.0616, 413, 999.87)]"
      ]
     },
     "execution_count": 38,
     "metadata": {},
     "output_type": "execute_result"
    }
   ],
   "source": [
    "%%sql\n",
    "\n",
    "SELECT \n",
    "\tround(sum(total),2) as Sum_OF_Invoice,\n",
    "\tmin(total) as Lowest_in_Invoice,\n",
    "\tmax(total) as Highest_in_Invoice,\n",
    "\tround(avg(total),4) as Mean_of_Invoice,\n",
    "\tcount(total) as Total_Items_in_Invoice,\n",
    "    max(total) - min(total) AS Range_of_Invoice\n",
    "FROM\n",
    "\tInvoice"
   ]
  },
  {
   "cell_type": "markdown",
   "id": "b1c7001c-4524-4451-929b-facae4ce0a4a",
   "metadata": {},
   "source": [
    "NESTING Function: A function contained within another function\n",
    "E.g. UPPER(SUBSTR(fieldName, startingChar, No_of_Chars_required)"
   ]
  }
 ],
 "metadata": {
  "kernelspec": {
   "display_name": "Python 3 (ipykernel)",
   "language": "python",
   "name": "python3"
  },
  "language_info": {
   "codemirror_mode": {
    "name": "ipython",
    "version": 3
   },
   "file_extension": ".py",
   "mimetype": "text/x-python",
   "name": "python",
   "nbconvert_exporter": "python",
   "pygments_lexer": "ipython3",
   "version": "3.11.4"
  }
 },
 "nbformat": 4,
 "nbformat_minor": 5
}
