{
 "cells": [
  {
   "cell_type": "code",
   "execution_count": null,
   "id": "c8ada6b7-b5af-41e8-ab26-45029cbdfe2c",
   "metadata": {},
   "outputs": [],
   "source": [
    "# import required libraries\n",
    "import sqlite3\n",
    "\n",
    "# load the sql module to iPython\n",
    "%load_ext sql\n",
    "\n",
    "# something called as 'Cell Magic' concept\n",
    "\n",
    "# load the database file here\n",
    "%sql sqlite:///WSDA_Music.db"
   ]
  },
  {
   "cell_type": "markdown",
   "id": "eddcbeb9-197c-499c-a52e-fe0d5a7bea36",
   "metadata": {},
   "source": [
    "#Start running the SQL queries from cell below.\n",
    "Mention the %%sql before each query."
   ]
  },
  {
   "cell_type": "markdown",
   "id": "382e4fad-cd9c-482f-9f27-7c271d1e35ad",
   "metadata": {},
   "source": [
    "Q. What are the average invoice totals by city?\n",
    "\n",
    "ANS: if we run code like this, we will get a single record of average.\n",
    "SELECT BillingCity, avg(total)\n",
    "FROM invoice\n",
    "\n",
    "We need all average values that are non-aggregated. So, we use the 'GROUP BY' clause against the non-aggregated fields. \n",
    "NOTE: Use 'GROUP BY' clause after FROM and WHERE"
   ]
  },
  {
   "cell_type": "code",
   "execution_count": null,
   "id": "9ac6da1a-f5aa-4d18-b15e-86bf554ce52b",
   "metadata": {},
   "outputs": [],
   "source": [
    "%%sql\n",
    "\n",
    "SELECT BillingCity, ROUND(avg(total),2) AS Average\n",
    "FROM invoice\n",
    "WHERE BillingCity <> 'None'\n",
    "GROUP BY BillingCity\n",
    "ORDER BY BillingCity;"
   ]
  },
  {
   "cell_type": "markdown",
   "id": "21198183-4310-4b98-a2f5-6cefccbd1045",
   "metadata": {},
   "source": [
    "HAVING Clause: When we use aggregate functions, the WHERE clause does not work on numerical values.\n",
    "so we use HAVING clause\n",
    "\n",
    "WHERE caluse is used for non-aggregate data.\n",
    "Having Clause is used after GROUP BY clause."
   ]
  },
  {
   "cell_type": "code",
   "execution_count": null,
   "id": "112620db-0605-44c0-a469-77a1448985de",
   "metadata": {},
   "outputs": [],
   "source": [
    "%%sql\n",
    "\n",
    "SELECT BillingCity, ROUND(avg(total),2) AS Average\n",
    "FROM invoice\n",
    "\n",
    "WHERE BillingCity <> 'None'\n",
    "\n",
    "GROUP BY BillingCity\n",
    "\n",
    "HAVING Average > 6\n",
    "\n",
    "ORDER BY BillingCity;"
   ]
  },
  {
   "cell_type": "markdown",
   "id": "db6dcdef-f9da-4fba-83c3-3707c0ef4d2c",
   "metadata": {},
   "source": [
    "Q. Grouping by more than one field at a time | what are the average invoice totals by billing country and city?\n",
    "A. to disinguish two values with same name."
   ]
  },
  {
   "cell_type": "code",
   "execution_count": null,
   "id": "2a810d41-b44c-49bb-abbf-608607aee35d",
   "metadata": {},
   "outputs": [],
   "source": [
    "%%sql\n",
    "\n",
    "SELECT BillingCountry, BillingCity, ROUND(avg(total),2) AS Average\n",
    "FROM invoice\n",
    "\n",
    "WHERE BillingCity <> 'None'\n",
    "\n",
    "GROUP BY BillingCountry, BillingCity\n",
    "\n",
    "HAVING Average > 6\n",
    "\n",
    "ORDER BY BillingCity;"
   ]
  },
  {
   "cell_type": "code",
   "execution_count": null,
   "id": "310c6f00-df39-4256-b263-f837470a205a",
   "metadata": {},
   "outputs": [],
   "source": []
  }
 ],
 "metadata": {
  "kernelspec": {
   "display_name": "Python 3 (ipykernel)",
   "language": "python",
   "name": "python3"
  },
  "language_info": {
   "codemirror_mode": {
    "name": "ipython",
    "version": 3
   },
   "file_extension": ".py",
   "mimetype": "text/x-python",
   "name": "python",
   "nbconvert_exporter": "python",
   "pygments_lexer": "ipython3",
   "version": "3.11.4"
  }
 },
 "nbformat": 4,
 "nbformat_minor": 5
}
