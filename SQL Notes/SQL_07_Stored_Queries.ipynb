{
 "cells": [
  {
   "cell_type": "code",
   "execution_count": 2,
   "id": "c8ada6b7-b5af-41e8-ab26-45029cbdfe2c",
   "metadata": {},
   "outputs": [],
   "source": [
    "# import required libraries\n",
    "import sqlite3\n",
    "\n",
    "# load the sql module to iPython\n",
    "%load_ext sql\n",
    "\n",
    "# something called as 'Cell Magic' concept\n",
    "\n",
    "# load the database file here\n",
    "%sql sqlite:///WSDA_Music.db"
   ]
  },
  {
   "cell_type": "markdown",
   "id": "eddcbeb9-197c-499c-a52e-fe0d5a7bea36",
   "metadata": {},
   "source": [
    "#Start running the SQL queries from cell below.\n",
    "Mention the %%sql before each query."
   ]
  },
  {
   "cell_type": "markdown",
   "id": "d1942db5-1420-479f-aed4-19844df6f74d",
   "metadata": {},
   "source": [
    "VIEW: an SQL query that is saved and can be executed repeatedly or can be used as reference by other queries\n",
    "(virtual table)\n",
    "\n",
    "syntax: CREATE VIEW\n",
    "naming standard: V_NameOfQuery"
   ]
  },
  {
   "cell_type": "code",
   "execution_count": 4,
   "id": "52948e26-a3e6-47ef-b25a-fcdd96484928",
   "metadata": {},
   "outputs": [
    {
     "name": "stdout",
     "output_type": "stream",
     "text": [
      " * sqlite:///WSDA_Music.db\n",
      "Done.\n"
     ]
    },
    {
     "data": {
      "text/plain": [
       "[]"
      ]
     },
     "execution_count": 4,
     "metadata": {},
     "output_type": "execute_result"
    }
   ],
   "source": [
    "%%sql \n",
    "\n",
    "CREATE VIEW V_GlobalAverage AS\n",
    "Select avg(total) AS GlobalAverage\n",
    "FROM Invoice"
   ]
  },
  {
   "cell_type": "markdown",
   "id": "22ce05c9-0a09-4d4d-a321-38c9724b88e8",
   "metadata": {},
   "source": [
    "Refer the videos for modifying and deleting a view"
   ]
  }
 ],
 "metadata": {
  "kernelspec": {
   "display_name": "Python 3 (ipykernel)",
   "language": "python",
   "name": "python3"
  },
  "language_info": {
   "codemirror_mode": {
    "name": "ipython",
    "version": 3
   },
   "file_extension": ".py",
   "mimetype": "text/x-python",
   "name": "python",
   "nbconvert_exporter": "python",
   "pygments_lexer": "ipython3",
   "version": "3.11.4"
  }
 },
 "nbformat": 4,
 "nbformat_minor": 5
}
