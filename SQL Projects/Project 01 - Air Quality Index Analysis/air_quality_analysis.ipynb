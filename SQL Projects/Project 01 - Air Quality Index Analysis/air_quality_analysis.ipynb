{
 "cells": [
  {
   "cell_type": "markdown",
   "metadata": {},
   "source": [
    "## Basic Setup"
   ]
  },
  {
   "cell_type": "code",
   "execution_count": 3,
   "metadata": {},
   "outputs": [],
   "source": [
    "# import required libraries\n",
    "import pandas as pd\n",
    "import sqlite3"
   ]
  },
  {
   "cell_type": "code",
   "execution_count": null,
   "metadata": {},
   "outputs": [],
   "source": [
    "%pip install ipython-sql\n",
    "# no need to install again once previously installed"
   ]
  },
  {
   "cell_type": "code",
   "execution_count": 4,
   "metadata": {},
   "outputs": [],
   "source": [
    "# load the sql module to iPython\n",
    "%load_ext sql"
   ]
  },
  {
   "cell_type": "code",
   "execution_count": 5,
   "metadata": {},
   "outputs": [],
   "source": [
    "# 'Cell Magic'\n",
    "%sql sqlite:///aqiDB.db"
   ]
  },
  {
   "cell_type": "code",
   "execution_count": 6,
   "metadata": {},
   "outputs": [],
   "source": [
    "# begin test with sql query to list all the columns with limit to fetch first 5 rows."
   ]
  },
  {
   "cell_type": "code",
   "execution_count": 7,
   "metadata": {},
   "outputs": [
    {
     "name": "stdout",
     "output_type": "stream",
     "text": [
      " * sqlite:///aqiDB.db\n",
      "Done.\n"
     ]
    },
    {
     "data": {
      "text/html": [
       "<table>\n",
       "    <thead>\n",
       "        <tr>\n",
       "            <th>country</th>\n",
       "            <th>state</th>\n",
       "            <th>city</th>\n",
       "            <th>station</th>\n",
       "            <th>last_update</th>\n",
       "            <th>latitude</th>\n",
       "            <th>longitude</th>\n",
       "            <th>pollutant_id</th>\n",
       "            <th>pollutant_min</th>\n",
       "            <th>pollutant_max</th>\n",
       "            <th>pollutant_avg</th>\n",
       "        </tr>\n",
       "    </thead>\n",
       "    <tbody>\n",
       "        <tr>\n",
       "            <td>India</td>\n",
       "            <td>Andhra_Pradesh</td>\n",
       "            <td>Amaravati</td>\n",
       "            <td>Secretariat, Amaravati - APPCB</td>\n",
       "            <td>06-07-2024 16:00:00</td>\n",
       "            <td>16.5150833</td>\n",
       "            <td>80.5181667</td>\n",
       "            <td>PM10</td>\n",
       "            <td>7</td>\n",
       "            <td>44</td>\n",
       "            <td>24</td>\n",
       "        </tr>\n",
       "        <tr>\n",
       "            <td>India</td>\n",
       "            <td>Andhra_Pradesh</td>\n",
       "            <td>Anantapur</td>\n",
       "            <td>Gulzarpet, Anantapur - APPCB</td>\n",
       "            <td>06-07-2024 16:00:00</td>\n",
       "            <td>14.675886</td>\n",
       "            <td>77.593027</td>\n",
       "            <td>PM2.5</td>\n",
       "            <td>29</td>\n",
       "            <td>61</td>\n",
       "            <td>40</td>\n",
       "        </tr>\n",
       "        <tr>\n",
       "            <td>India</td>\n",
       "            <td>Andhra_Pradesh</td>\n",
       "            <td>Kadapa</td>\n",
       "            <td>Yerramukkapalli, Kadapa - APPCB</td>\n",
       "            <td>06-07-2024 16:00:00</td>\n",
       "            <td>14.465052</td>\n",
       "            <td>78.824187</td>\n",
       "            <td>PM2.5</td>\n",
       "            <td>NA</td>\n",
       "            <td>NA</td>\n",
       "            <td>NA</td>\n",
       "        </tr>\n",
       "        <tr>\n",
       "            <td>India</td>\n",
       "            <td>Andhra_Pradesh</td>\n",
       "            <td>Tirupati</td>\n",
       "            <td>Tirumala, Tirupati - APPCB</td>\n",
       "            <td>06-07-2024 16:00:00</td>\n",
       "            <td>13.67</td>\n",
       "            <td>79.35</td>\n",
       "            <td>NH3</td>\n",
       "            <td>1</td>\n",
       "            <td>2</td>\n",
       "            <td>1</td>\n",
       "        </tr>\n",
       "        <tr>\n",
       "            <td>India</td>\n",
       "            <td>Andhra_Pradesh</td>\n",
       "            <td>Tirupati</td>\n",
       "            <td>Tirumala, Tirupati - APPCB</td>\n",
       "            <td>06-07-2024 16:00:00</td>\n",
       "            <td>13.67</td>\n",
       "            <td>79.35</td>\n",
       "            <td>SO2</td>\n",
       "            <td>1</td>\n",
       "            <td>7</td>\n",
       "            <td>3</td>\n",
       "        </tr>\n",
       "    </tbody>\n",
       "</table>"
      ],
      "text/plain": [
       "[('India', 'Andhra_Pradesh', 'Amaravati', 'Secretariat, Amaravati - APPCB', '06-07-2024 16:00:00', 16.5150833, 80.5181667, 'PM10', 7, 44, 24),\n",
       " ('India', 'Andhra_Pradesh', 'Anantapur', 'Gulzarpet, Anantapur - APPCB', '06-07-2024 16:00:00', 14.675886, 77.593027, 'PM2.5', 29, 61, 40),\n",
       " ('India', 'Andhra_Pradesh', 'Kadapa', 'Yerramukkapalli, Kadapa - APPCB', '06-07-2024 16:00:00', 14.465052, 78.824187, 'PM2.5', 'NA', 'NA', 'NA'),\n",
       " ('India', 'Andhra_Pradesh', 'Tirupati', 'Tirumala, Tirupati - APPCB', '06-07-2024 16:00:00', 13.67, 79.35, 'NH3', 1, 2, 1),\n",
       " ('India', 'Andhra_Pradesh', 'Tirupati', 'Tirumala, Tirupati - APPCB', '06-07-2024 16:00:00', 13.67, 79.35, 'SO2', 1, 7, 3)]"
      ]
     },
     "execution_count": 7,
     "metadata": {},
     "output_type": "execute_result"
    }
   ],
   "source": [
    "%%sql\n",
    "select * from air_quality_index\n",
    "limit 5"
   ]
  },
  {
   "cell_type": "markdown",
   "metadata": {},
   "source": [
    "# SQL Data Analysis for Air Quality Index"
   ]
  },
  {
   "cell_type": "markdown",
   "metadata": {},
   "source": [
    "### Q1. What is the average pollutant level (pollutant_avg) for each pollutant type across all cities?"
   ]
  },
  {
   "cell_type": "code",
   "execution_count": 8,
   "metadata": {},
   "outputs": [
    {
     "name": "stdout",
     "output_type": "stream",
     "text": [
      " * sqlite:///aqiDB.db\n",
      "Done.\n"
     ]
    },
    {
     "data": {
      "text/html": [
       "<table>\n",
       "    <thead>\n",
       "        <tr>\n",
       "            <th>pollutant_id</th>\n",
       "            <th>average_pollutant_level</th>\n",
       "        </tr>\n",
       "    </thead>\n",
       "    <tbody>\n",
       "        <tr>\n",
       "            <td>CO</td>\n",
       "            <td>30.813807531380753</td>\n",
       "        </tr>\n",
       "        <tr>\n",
       "            <td>NH3</td>\n",
       "            <td>4.651658767772512</td>\n",
       "        </tr>\n",
       "        <tr>\n",
       "            <td>NO2</td>\n",
       "            <td>16.437894736842104</td>\n",
       "        </tr>\n",
       "        <tr>\n",
       "            <td>OZONE</td>\n",
       "            <td>25.151063829787233</td>\n",
       "        </tr>\n",
       "        <tr>\n",
       "            <td>PM10</td>\n",
       "            <td>43.83367983367983</td>\n",
       "        </tr>\n",
       "        <tr>\n",
       "            <td>PM2.5</td>\n",
       "            <td>30.374485596707817</td>\n",
       "        </tr>\n",
       "        <tr>\n",
       "            <td>SO2</td>\n",
       "            <td>11.265822784810126</td>\n",
       "        </tr>\n",
       "    </tbody>\n",
       "</table>"
      ],
      "text/plain": [
       "[('CO', 30.813807531380753),\n",
       " ('NH3', 4.651658767772512),\n",
       " ('NO2', 16.437894736842104),\n",
       " ('OZONE', 25.151063829787233),\n",
       " ('PM10', 43.83367983367983),\n",
       " ('PM2.5', 30.374485596707817),\n",
       " ('SO2', 11.265822784810126)]"
      ]
     },
     "execution_count": 8,
     "metadata": {},
     "output_type": "execute_result"
    }
   ],
   "source": [
    "%%sql\n",
    "SELECT pollutant_id, AVG(pollutant_avg) as average_pollutant_level\n",
    "FROM air_quality_index\n",
    "GROUP BY pollutant_id;"
   ]
  },
  {
   "cell_type": "markdown",
   "metadata": {},
   "source": [
    "### Q2. Which city has the highest average pollutant level for PM10?"
   ]
  },
  {
   "cell_type": "code",
   "execution_count": 9,
   "metadata": {},
   "outputs": [
    {
     "name": "stdout",
     "output_type": "stream",
     "text": [
      " * sqlite:///aqiDB.db\n",
      "Done.\n"
     ]
    },
    {
     "data": {
      "text/html": [
       "<table>\n",
       "    <thead>\n",
       "        <tr>\n",
       "            <th>city</th>\n",
       "            <th>max_pm10_level</th>\n",
       "        </tr>\n",
       "    </thead>\n",
       "    <tbody>\n",
       "        <tr>\n",
       "            <td>Bundi</td>\n",
       "            <td>237</td>\n",
       "        </tr>\n",
       "    </tbody>\n",
       "</table>"
      ],
      "text/plain": [
       "[('Bundi', 237)]"
      ]
     },
     "execution_count": 9,
     "metadata": {},
     "output_type": "execute_result"
    }
   ],
   "source": [
    "%%sql\n",
    "SELECT city, MAX(pollutant_avg) as max_pm10_level\n",
    "FROM air_quality_index\n",
    "WHERE pollutant_id = 'PM10' AND pollutant_avg <> 'NA'\n",
    "GROUP BY city\n",
    "ORDER BY max_pm10_level DESC\n",
    "LIMIT 1;"
   ]
  },
  {
   "cell_type": "markdown",
   "metadata": {},
   "source": [
    "### Q3. How does the average pollutant level of PM2.5 compare between different states?"
   ]
  },
  {
   "cell_type": "code",
   "execution_count": null,
   "metadata": {},
   "outputs": [],
   "source": [
    "%%sql\n",
    "SELECT state, round(AVG(pollutant_avg), 2) as average_pm2_5_level\n",
    "FROM air_quality_index\n",
    "WHERE pollutant_id = 'PM2.5'\n",
    "GROUP BY state;"
   ]
  },
  {
   "cell_type": "markdown",
   "metadata": {},
   "source": [
    "### Q4. What is the trend of pollutant levels over time for a specific city?"
   ]
  },
  {
   "cell_type": "code",
   "execution_count": null,
   "metadata": {},
   "outputs": [],
   "source": [
    "%%sql\n",
    "SELECT city, station, last_update, pollutant_avg\n",
    "FROM air_quality_index\n",
    "WHERE city = 'Amaravati'\n",
    "ORDER BY last_update;"
   ]
  },
  {
   "cell_type": "markdown",
   "metadata": {},
   "source": [
    "Considering city as Amravati. The results obtained are not useful as update time is same for all the data."
   ]
  },
  {
   "cell_type": "markdown",
   "metadata": {},
   "source": [
    "### Q5. Which stations have recorded the highest maximum pollutant levels (pollutant_max) for each pollutant?"
   ]
  },
  {
   "cell_type": "code",
   "execution_count": null,
   "metadata": {},
   "outputs": [],
   "source": [
    "%%sql\n",
    "SELECT station, pollutant_id, MAX(pollutant_max) as max_pollutant_level\n",
    "FROM air_quality_index\n",
    "WHERE pollutant_max <> 'NA'\n",
    "GROUP BY station, pollutant_id\n",
    "ORDER BY max_pollutant_level DESC;"
   ]
  },
  {
   "cell_type": "markdown",
   "metadata": {},
   "source": [
    "### Q6. Which city has the highest average pollutant level for PM10 and PM2.5 combined?"
   ]
  },
  {
   "cell_type": "code",
   "execution_count": null,
   "metadata": {},
   "outputs": [],
   "source": [
    "%%sql\n",
    "SELECT city, AVG(pollutant_avg) as average_pollutant_level\n",
    "FROM air_quality_index\n",
    "WHERE pollutant_id IN ('PM10', 'PM2.5')\n",
    "GROUP BY city\n",
    "ORDER BY average_pollutant_level DESC\n",
    "LIMIT 1;"
   ]
  },
  {
   "cell_type": "markdown",
   "metadata": {},
   "source": [
    "### Q7. Are there any significant differences in pollutant levels between urban and rural stations?"
   ]
  },
  {
   "cell_type": "code",
   "execution_count": null,
   "metadata": {},
   "outputs": [],
   "source": [
    "%%sql\n",
    "SELECT station, AVG(pollutant_avg) as average_pollutant_level\n",
    "FROM air_quality_index\n",
    "GROUP BY station\n",
    "ORDER BY average_pollutant_level DESC;"
   ]
  },
  {
   "cell_type": "markdown",
   "metadata": {},
   "source": [
    "### Q8. Which pollutants have shown the most variation in their levels (difference between pollutant_max and pollutant_min) across different stations?"
   ]
  },
  {
   "cell_type": "code",
   "execution_count": null,
   "metadata": {},
   "outputs": [],
   "source": [
    "%%sql\n",
    "SELECT pollutant_id, AVG(pollutant_max - pollutant_min) as average_variation\n",
    "FROM air_quality_index\n",
    "GROUP BY pollutant_id\n",
    "ORDER BY average_variation DESC;"
   ]
  },
  {
   "cell_type": "markdown",
   "metadata": {},
   "source": [
    "### Q9. How do pollutant levels vary by geographical coordinates (latitude and longitude)?"
   ]
  },
  {
   "cell_type": "code",
   "execution_count": null,
   "metadata": {},
   "outputs": [],
   "source": [
    "%%sql\n",
    "SELECT latitude, longitude, AVG(pollutant_avg) as average_pollutant_level\n",
    "FROM air_quality_index\n",
    "GROUP BY latitude, longitude;"
   ]
  },
  {
   "cell_type": "markdown",
   "metadata": {},
   "source": [
    "### Q.10 What are the top five stations with the highest average pollutant levels for PM10 and PM2.5?"
   ]
  },
  {
   "cell_type": "code",
   "execution_count": null,
   "metadata": {},
   "outputs": [],
   "source": [
    "%%sql\n",
    "SELECT station, pollutant_id, AVG(pollutant_avg) as average_pollutant_level\n",
    "FROM air_quality_index\n",
    "WHERE pollutant_id IN ('PM10', 'PM2.5')\n",
    "GROUP BY station, pollutant_id\n",
    "ORDER BY average_pollutant_level DESC\n",
    "LIMIT 5;"
   ]
  }
 ],
 "metadata": {
  "kernelspec": {
   "display_name": "Python 3 (ipykernel)",
   "language": "python",
   "name": "python3"
  },
  "language_info": {
   "codemirror_mode": {
    "name": "ipython",
    "version": 3
   },
   "file_extension": ".py",
   "mimetype": "text/x-python",
   "name": "python",
   "nbconvert_exporter": "python",
   "pygments_lexer": "ipython3",
   "version": "3.12.3"
  }
 },
 "nbformat": 4,
 "nbformat_minor": 4
}
