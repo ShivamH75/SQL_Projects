{
 "cells": [
  {
   "cell_type": "markdown",
   "metadata": {},
   "source": [
    "# Basic Setup"
   ]
  },
  {
   "cell_type": "code",
   "execution_count": null,
   "metadata": {},
   "outputs": [],
   "source": [
    "# import required libraries\n",
    "import pandas as pd\n",
    "import sqlite3"
   ]
  },
  {
   "cell_type": "code",
   "execution_count": null,
   "metadata": {},
   "outputs": [],
   "source": [
    "%pip install ipython-sql\n",
    "# no need to install again once previously installed"
   ]
  },
  {
   "cell_type": "code",
   "execution_count": null,
   "metadata": {},
   "outputs": [],
   "source": [
    "# load the sql module to iPython\n",
    "%load_ext sql"
   ]
  },
  {
   "cell_type": "code",
   "execution_count": null,
   "metadata": {},
   "outputs": [],
   "source": [
    "# 'Cell Magic' concept\n",
    "%sql sqlite:///aqiDB.db"
   ]
  },
  {
   "cell_type": "code",
   "execution_count": null,
   "metadata": {},
   "outputs": [],
   "source": [
    "%%sql\n",
    "select * from air_quality_index\n",
    "limit 5"
   ]
  },
  {
   "cell_type": "markdown",
   "metadata": {},
   "source": [
    "# SQL Data Analysis for Air Quality Index"
   ]
  },
  {
   "cell_type": "markdown",
   "metadata": {},
   "source": [
    "### Q1. What is the average pollutant level (pollutant_avg) for each pollutant type across all cities?"
   ]
  },
  {
   "cell_type": "code",
   "execution_count": null,
   "metadata": {},
   "outputs": [],
   "source": [
    "%%sql\n",
    "SELECT pollutant_id, AVG(pollutant_avg) as average_pollutant_level\n",
    "FROM air_quality_index\n",
    "GROUP BY pollutant_id;"
   ]
  },
  {
   "cell_type": "markdown",
   "metadata": {},
   "source": [
    "### Q2. Which city has the highest average pollutant level for PM10?"
   ]
  },
  {
   "cell_type": "code",
   "execution_count": null,
   "metadata": {},
   "outputs": [],
   "source": [
    "%%sql\n",
    "SELECT city, MAX(pollutant_avg) as max_pm10_level\n",
    "FROM air_quality_index\n",
    "WHERE pollutant_id = 'PM10' AND pollutant_avg <> 'NA'\n",
    "GROUP BY city\n",
    "ORDER BY max_pm10_level DESC\n",
    "LIMIT 1;"
   ]
  },
  {
   "cell_type": "markdown",
   "metadata": {},
   "source": [
    "### Q3. How does the average pollutant level of PM2.5 compare between different states?"
   ]
  },
  {
   "cell_type": "code",
   "execution_count": null,
   "metadata": {},
   "outputs": [],
   "source": [
    "%%sql\n",
    "SELECT state, round(AVG(pollutant_avg), 2) as average_pm2_5_level\n",
    "FROM air_quality_index\n",
    "WHERE pollutant_id = 'PM2.5'\n",
    "GROUP BY state;"
   ]
  },
  {
   "cell_type": "markdown",
   "metadata": {},
   "source": [
    "### Q4. What is the trend of pollutant levels over time for a specific city?"
   ]
  },
  {
   "cell_type": "code",
   "execution_count": null,
   "metadata": {},
   "outputs": [],
   "source": [
    "%%sql\n",
    "SELECT city, station, last_update, pollutant_avg\n",
    "FROM air_quality_index\n",
    "WHERE city = 'Amaravati'\n",
    "ORDER BY last_update;"
   ]
  },
  {
   "cell_type": "markdown",
   "metadata": {},
   "source": [
    "Considering city as Amravati. The results obtained are not useful as update time is same for all the data."
   ]
  },
  {
   "cell_type": "markdown",
   "metadata": {},
   "source": [
    "### Q5. Which stations have recorded the highest maximum pollutant levels (pollutant_max) for each pollutant?"
   ]
  },
  {
   "cell_type": "code",
   "execution_count": null,
   "metadata": {},
   "outputs": [],
   "source": [
    "%%sql\n",
    "SELECT station, pollutant_id, MAX(pollutant_max) as max_pollutant_level\n",
    "FROM air_quality_index\n",
    "WHERE pollutant_max <> 'NA'\n",
    "GROUP BY station, pollutant_id\n",
    "ORDER BY max_pollutant_level DESC;"
   ]
  },
  {
   "cell_type": "markdown",
   "metadata": {},
   "source": [
    "### Q6. Which city has the highest average pollutant level for PM10 and PM2.5 combined?"
   ]
  },
  {
   "cell_type": "code",
   "execution_count": null,
   "metadata": {},
   "outputs": [],
   "source": [
    "%%sql\n",
    "SELECT city, AVG(pollutant_avg) as average_pollutant_level\n",
    "FROM air_quality_index\n",
    "WHERE pollutant_id IN ('PM10', 'PM2.5')\n",
    "GROUP BY city\n",
    "ORDER BY average_pollutant_level DESC\n",
    "LIMIT 1;"
   ]
  },
  {
   "cell_type": "markdown",
   "metadata": {},
   "source": [
    "### Q7. Are there any significant differences in pollutant levels between urban and rural stations?"
   ]
  },
  {
   "cell_type": "code",
   "execution_count": null,
   "metadata": {},
   "outputs": [],
   "source": [
    "%%sql\n",
    "SELECT station, AVG(pollutant_avg) as average_pollutant_level\n",
    "FROM air_quality_index\n",
    "GROUP BY station\n",
    "ORDER BY average_pollutant_level DESC;"
   ]
  },
  {
   "cell_type": "markdown",
   "metadata": {},
   "source": [
    "### Q8. Which pollutants have shown the most variation in their levels (difference between pollutant_max and pollutant_min) across different stations?"
   ]
  },
  {
   "cell_type": "code",
   "execution_count": null,
   "metadata": {},
   "outputs": [],
   "source": [
    "%%sql\n",
    "SELECT pollutant_id, AVG(pollutant_max - pollutant_min) as average_variation\n",
    "FROM air_quality_index\n",
    "GROUP BY pollutant_id\n",
    "ORDER BY average_variation DESC;"
   ]
  },
  {
   "cell_type": "markdown",
   "metadata": {},
   "source": [
    "### Q9. How do pollutant levels vary by geographical coordinates (latitude and longitude)?"
   ]
  },
  {
   "cell_type": "code",
   "execution_count": null,
   "metadata": {},
   "outputs": [],
   "source": [
    "%%sql\n",
    "SELECT latitude, longitude, AVG(pollutant_avg) as average_pollutant_level\n",
    "FROM air_quality_index\n",
    "GROUP BY latitude, longitude;"
   ]
  },
  {
   "cell_type": "markdown",
   "metadata": {},
   "source": [
    "### Q.10 What are the top five stations with the highest average pollutant levels for PM10 and PM2.5?"
   ]
  },
  {
   "cell_type": "code",
   "execution_count": null,
   "metadata": {},
   "outputs": [],
   "source": [
    "%%sql\n",
    "SELECT station, pollutant_id, AVG(pollutant_avg) as average_pollutant_level\n",
    "FROM air_quality_index\n",
    "WHERE pollutant_id IN ('PM10', 'PM2.5')\n",
    "GROUP BY station, pollutant_id\n",
    "ORDER BY average_pollutant_level DESC\n",
    "LIMIT 5;"
   ]
  }
 ],
 "metadata": {
  "kernelspec": {
   "display_name": "Python 3 (ipykernel)",
   "language": "python",
   "name": "python3"
  },
  "language_info": {
   "codemirror_mode": {
    "name": "ipython",
    "version": 3
   },
   "file_extension": ".py",
   "mimetype": "text/x-python",
   "name": "python",
   "nbconvert_exporter": "python",
   "pygments_lexer": "ipython3",
   "version": "3.12.3"
  }
 },
 "nbformat": 4,
 "nbformat_minor": 4
}
