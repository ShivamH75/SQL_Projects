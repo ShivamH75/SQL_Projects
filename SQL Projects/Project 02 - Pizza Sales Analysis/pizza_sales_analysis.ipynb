{
 "cells": [
  {
   "cell_type": "markdown",
   "metadata": {},
   "source": [
    "## Import required Python libraries"
   ]
  },
  {
   "cell_type": "code",
   "execution_count": null,
   "metadata": {},
   "outputs": [],
   "source": [
    "# import required libraries\n",
    "import pandas as pd\n",
    "import sqlite3"
   ]
  },
  {
   "cell_type": "code",
   "execution_count": null,
   "metadata": {},
   "outputs": [],
   "source": [
    "# %pip install ipython-sql\n",
    "# no need to install again once previously installed"
   ]
  },
  {
   "cell_type": "code",
   "execution_count": null,
   "metadata": {},
   "outputs": [],
   "source": [
    "# load the sql module to iPython\n",
    "%load_ext sql"
   ]
  },
  {
   "cell_type": "markdown",
   "metadata": {},
   "source": [
    "## Connect with Database"
   ]
  },
  {
   "cell_type": "code",
   "execution_count": null,
   "metadata": {},
   "outputs": [],
   "source": [
    "# 'Cell Magic'\n",
    "%sql sqlite:///MyPizza.db"
   ]
  },
  {
   "cell_type": "code",
   "execution_count": null,
   "metadata": {},
   "outputs": [],
   "source": [
    "# begin test with sql query to list all the columns with limit to fetch first 5 rows."
   ]
  },
  {
   "cell_type": "code",
   "execution_count": null,
   "metadata": {},
   "outputs": [],
   "source": [
    "%%sql\n",
    "select * from pizzas\n",
    "limit 5"
   ]
  },
  {
   "cell_type": "markdown",
   "metadata": {},
   "source": [
    "create a sample table"
   ]
  },
  {
   "cell_type": "code",
   "execution_count": null,
   "metadata": {},
   "outputs": [],
   "source": [
    "%%sql\n",
    "create table sample_table (\n",
    "pizza_id int not NULL\n",
    ")"
   ]
  },
  {
   "cell_type": "markdown",
   "metadata": {},
   "source": [
    "Drop a table"
   ]
  },
  {
   "cell_type": "code",
   "execution_count": null,
   "metadata": {},
   "outputs": [],
   "source": [
    "%%sql\n",
    "drop table sample_table"
   ]
  },
  {
   "cell_type": "markdown",
   "metadata": {},
   "source": [
    "List all tables in a Database"
   ]
  },
  {
   "cell_type": "code",
   "execution_count": null,
   "metadata": {},
   "outputs": [],
   "source": [
    "%%sql\n",
    "SELECT name FROM sqlite_master WHERE type='table';"
   ]
  },
  {
   "cell_type": "markdown",
   "metadata": {},
   "source": [
    "## Basic SQL:"
   ]
  },
  {
   "cell_type": "markdown",
   "metadata": {},
   "source": [
    "1. Retrieve the total number of orders placed."
   ]
  },
  {
   "cell_type": "code",
   "execution_count": null,
   "metadata": {},
   "outputs": [],
   "source": [
    "%%sql\n",
    "select count(order_id) as total_orders\n",
    "from orders"
   ]
  },
  {
   "cell_type": "markdown",
   "metadata": {},
   "source": [
    "2. Calculate the total revenue generated from pizza sales."
   ]
  },
  {
   "cell_type": "code",
   "execution_count": null,
   "metadata": {},
   "outputs": [],
   "source": [
    "%%sql\n",
    "\n",
    "SELECT ROUND(SUM(od.quantity * pz.price), 2) AS total_revenue\n",
    "FROM   order_details AS od\n",
    "       JOIN pizzas AS pz\n",
    "         ON od.pizza_id = pz.pizza_id "
   ]
  },
  {
   "cell_type": "markdown",
   "metadata": {},
   "source": [
    "3. Identify the highest-priced pizza."
   ]
  },
  {
   "cell_type": "code",
   "execution_count": null,
   "metadata": {},
   "outputs": [],
   "source": [
    "%%sql\n",
    "select \n",
    "  name, \n",
    "  max(price) \n",
    "from \n",
    "  pizzas as pz \n",
    "  join pizza_types as pt on pz.pizza_type_id = pt.pizza_type_id"
   ]
  },
  {
   "cell_type": "markdown",
   "metadata": {},
   "source": [
    "4. Identify the most common pizza size ordered."
   ]
  },
  {
   "cell_type": "code",
   "execution_count": null,
   "metadata": {},
   "outputs": [],
   "source": [
    "%%sql\n",
    "\n",
    "select \n",
    "  pz.size, \n",
    "  count(od.order_details_id) as common_size_ordered \n",
    "from \n",
    "  pizzas as pz \n",
    "  join order_details as od on pz.pizza_id = od.pizza_id \n",
    "group by \n",
    "  pz.size \n",
    "order by \n",
    "  common_size_ordered desc"
   ]
  },
  {
   "cell_type": "markdown",
   "metadata": {},
   "source": [
    "5. List the top 5 most ordered pizza types along with their quantities."
   ]
  },
  {
   "cell_type": "code",
   "execution_count": null,
   "metadata": {},
   "outputs": [],
   "source": [
    "%%sql\n",
    "\n",
    "SELECT \n",
    "  pizza_types.name, \n",
    "  sum(order_details.quantity) as order_quantity_sum \n",
    "from \n",
    "  pizzas \n",
    "  join order_details on pizzas.pizza_id = order_details.pizza_id \n",
    "  join pizza_types on pizzas.pizza_type_id = pizza_types.pizza_type_id \n",
    "GROUP by \n",
    "  pizza_types.name \n",
    "ORDER by \n",
    "  order_quantity_sum DESC \n",
    "limit \n",
    "  5"
   ]
  },
  {
   "cell_type": "markdown",
   "metadata": {},
   "source": [
    "Note: The GROUP BY clause in SQL is mandatory when you are using aggregate functions (like COUNT(), SUM(), AVG(), MAX(), MIN(), etc.) alongside non-aggregated columns in the SELECT statement."
   ]
  },
  {
   "cell_type": "markdown",
   "metadata": {},
   "source": [
    "## Intermediate SQL:"
   ]
  },
  {
   "cell_type": "markdown",
   "metadata": {},
   "source": [
    "1. Join the necessary tables to find the total quantity of each pizza category ordered."
   ]
  },
  {
   "cell_type": "code",
   "execution_count": null,
   "metadata": {},
   "outputs": [],
   "source": [
    "%%sql\n",
    "\n",
    "SELECT \n",
    "  pizza_types.category, \n",
    "  sum(order_details.quantity) as total_category_orders \n",
    "from \n",
    "  pizzas \n",
    "  join order_details on pizzas.pizza_id = order_details.pizza_id \n",
    "  join pizza_types on pizzas.pizza_type_id = pizza_types.pizza_type_id \n",
    "GROUP by \n",
    "  pizza_types.category \n",
    "ORDER by \n",
    "  total_category_orders DESC"
   ]
  },
  {
   "cell_type": "markdown",
   "metadata": {},
   "source": [
    "2. Determine the distribution of orders by hour of the day."
   ]
  },
  {
   "cell_type": "code",
   "execution_count": null,
   "metadata": {},
   "outputs": [],
   "source": [
    "%%sql\n",
    "SELECT strftime('%H', order_time) AS hour, COUNT(order_id) as order_count\n",
    "FROM orders\n",
    "GROUP BY hour;"
   ]
  },
  {
   "cell_type": "markdown",
   "metadata": {},
   "source": [
    "3. Join relevant tables to find the category-wise distribution of pizzas."
   ]
  },
  {
   "cell_type": "code",
   "execution_count": null,
   "metadata": {},
   "outputs": [],
   "source": [
    "%%sql\n",
    "select \n",
    "  category, \n",
    "  count(pizza_type_id) as category_count \n",
    "from \n",
    "  pizza_types \n",
    "GROUP by \n",
    "  category\n",
    "order by\n",
    "  category_count DESC"
   ]
  },
  {
   "cell_type": "markdown",
   "metadata": {},
   "source": [
    "Observed there is some incorrect rows present in pizza_types. Using DELETE query to remove non-relevent rows."
   ]
  },
  {
   "cell_type": "code",
   "execution_count": null,
   "metadata": {},
   "outputs": [],
   "source": [
    "%%sql\n",
    "DELETE from pizza_types\n",
    "WHERE category in ('L', 'M', 'S', 'XL', 'XXL')"
   ]
  },
  {
   "cell_type": "code",
   "execution_count": null,
   "metadata": {},
   "outputs": [],
   "source": [
    "%%sql\n",
    "select category, count(pizza_type_id) as category_count from pizza_types\n",
    "GROUP by category"
   ]
  },
  {
   "cell_type": "markdown",
   "metadata": {},
   "source": [
    "4. Group the orders by date and calculate the average number of pizzas ordered per day."
   ]
  },
  {
   "cell_type": "code",
   "execution_count": null,
   "metadata": {},
   "outputs": [],
   "source": [
    "%%sql\n",
    "\n",
    "select \n",
    "  round(\n",
    "    avg(sum_orders), \n",
    "    0\n",
    "  ) as average_order_per_day \n",
    "FROM \n",
    "  (\n",
    "    select \n",
    "      orders.order_date, \n",
    "      sum(order_details.quantity) as sum_orders \n",
    "    from \n",
    "      orders \n",
    "      join order_details on orders.order_id = order_details.order_id \n",
    "    GROUP by \n",
    "      orders.order_date\n",
    "  )"
   ]
  },
  {
   "cell_type": "markdown",
   "metadata": {},
   "source": [
    "5. Determine the top 3 most ordered pizza types based on revenue."
   ]
  },
  {
   "cell_type": "code",
   "execution_count": null,
   "metadata": {},
   "outputs": [],
   "source": [
    "%%sql\n",
    "\n",
    "SELECT \n",
    "  pizza_types.name as pizza_name, \n",
    "  sum(\n",
    "    order_details.quantity * pizzas.price\n",
    "  ) as revenue \n",
    "from \n",
    "  order_details \n",
    "  JOIN pizzas on pizzas.pizza_id = order_details.pizza_id \n",
    "  JOIN pizza_types on pizza_types.pizza_type_id = pizzas.pizza_type_id \n",
    "GROUP by \n",
    "  pizza_name \n",
    "order by \n",
    "  revenue DESC \n",
    "limit \n",
    "  3"
   ]
  },
  {
   "cell_type": "markdown",
   "metadata": {},
   "source": [
    "## Advanced SQL:"
   ]
  },
  {
   "cell_type": "markdown",
   "metadata": {},
   "source": [
    "1. Calculate the percentage contribution of each pizza type to total revenue."
   ]
  },
  {
   "cell_type": "code",
   "execution_count": null,
   "metadata": {},
   "outputs": [],
   "source": [
    "%%sql\n",
    "\n",
    "select \n",
    "  pizza_types.category, \n",
    "  round(\n",
    "    sum(\n",
    "      order_details.quantity * pizzas.price\n",
    "    ) / (\n",
    "      SELECT \n",
    "        round(\n",
    "          sum(\n",
    "            order_details.quantity * pizzas.price\n",
    "          ), \n",
    "          2\n",
    "        ) as total_sales \n",
    "      FROM \n",
    "        order_details \n",
    "        JOIN pizzas on pizzas.pizza_id = order_details.pizza_id\n",
    "    ) * 100, \n",
    "    2\n",
    "  ) as percent_revenue \n",
    "from \n",
    "  pizza_types \n",
    "  join pizzas on pizza_types.pizza_type_id = pizzas.pizza_type_id \n",
    "  join order_details on order_details.pizza_id = pizzas.pizza_id \n",
    "GROUP by \n",
    "  pizza_types.category \n",
    "order by \n",
    "  percent_revenue desc"
   ]
  },
  {
   "cell_type": "markdown",
   "metadata": {},
   "source": [
    "2. Analyze the cumulative revenue generated over time."
   ]
  },
  {
   "cell_type": "code",
   "execution_count": null,
   "metadata": {},
   "outputs": [],
   "source": []
  },
  {
   "cell_type": "markdown",
   "metadata": {},
   "source": [
    "3. Determine the top 3 most ordered pizza types based on revenue for each pizza category."
   ]
  },
  {
   "cell_type": "code",
   "execution_count": null,
   "metadata": {},
   "outputs": [],
   "source": []
  },
  {
   "cell_type": "markdown",
   "metadata": {},
   "source": [
    "Learning source:\n",
    "https://www.youtube.com/watch?v=zZpMvAedh_E&t=2773s"
   ]
  }
 ],
 "metadata": {
  "kernelspec": {
   "display_name": "Python 3 (ipykernel)",
   "language": "python",
   "name": "python3"
  },
  "language_info": {
   "codemirror_mode": {
    "name": "ipython",
    "version": 3
   },
   "file_extension": ".py",
   "mimetype": "text/x-python",
   "name": "python",
   "nbconvert_exporter": "python",
   "pygments_lexer": "ipython3",
   "version": "3.12.3"
  }
 },
 "nbformat": 4,
 "nbformat_minor": 4
}
