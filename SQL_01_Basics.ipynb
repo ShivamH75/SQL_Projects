{
 "cells": [
  {
   "cell_type": "code",
   "execution_count": null,
   "id": "c8ada6b7-b5af-41e8-ab26-45029cbdfe2c",
   "metadata": {},
   "outputs": [],
   "source": [
    "# import required libraries\n",
    "import sqlite3\n",
    "\n",
    "# load the sql module to iPython\n",
    "%load_ext sql\n",
    "\n",
    "# something called as 'Cell Magic' concept\n",
    "\n",
    "# load the database file here\n",
    "%sql sqlite:///WSDA_Music.db"
   ]
  },
  {
   "cell_type": "markdown",
   "id": "eddcbeb9-197c-499c-a52e-fe0d5a7bea36",
   "metadata": {},
   "source": [
    "#Start running the SQL queries from cell below.\n",
    "Mention the %%sql before each query."
   ]
  },
  {
   "cell_type": "markdown",
   "id": "efe8f192-a292-4b56-968b-0ceb2caddeec",
   "metadata": {},
   "source": [
    "01. Fetch all data from given table"
   ]
  },
  {
   "cell_type": "code",
   "execution_count": null,
   "id": "b412208f-9f85-45b4-a912-7e94637574c4",
   "metadata": {},
   "outputs": [],
   "source": [
    "%%sql\n",
    "\n",
    "SELECT * FROM Employee"
   ]
  },
  {
   "cell_type": "markdown",
   "id": "775041cd-562e-41cf-91c9-001fce201643",
   "metadata": {},
   "source": [
    "02. Fetch data from particular column of a table"
   ]
  },
  {
   "cell_type": "code",
   "execution_count": null,
   "id": "a6974467-60b1-4045-8c40-7a50cfd536d5",
   "metadata": {},
   "outputs": [],
   "source": [
    "%%sql\n",
    "\n",
    "SELECT FirstName, LastName from Employee"
   ]
  },
  {
   "cell_type": "markdown",
   "id": "5aac68f3-efba-41f2-b4ed-500a2f1a2e44",
   "metadata": {},
   "source": [
    "03. Alias in table column names\n",
    "use [] or \"text\" if using spaces between words of a column name"
   ]
  },
  {
   "cell_type": "code",
   "execution_count": null,
   "id": "6cfc49b9-eb20-4311-8bcd-181fca3fd935",
   "metadata": {},
   "outputs": [],
   "source": [
    "%%sql\n",
    "\n",
    "SELECT FirstName as Fname, LastName [Last Name] \n",
    "FROM Employee"
   ]
  },
  {
   "cell_type": "markdown",
   "id": "d42ad2c5-6235-4815-a2c5-eda0dbd76940",
   "metadata": {},
   "source": [
    "04. Sort columns by order\n",
    "-- keyword: 'ORDER BY'\n",
    "-- sort by ascending order: ASC (by default is also ascending)\n",
    "-- sort by descending order: DESC"
   ]
  },
  {
   "cell_type": "code",
   "execution_count": null,
   "id": "db5a4f61-a2dd-469e-b5c8-56dbcb35631d",
   "metadata": {},
   "outputs": [],
   "source": [
    "%%sql\n",
    "\n",
    "SELECT FirstName, LastName, Email\n",
    "from Employee\n",
    "Order by FirstName DESC\n"
   ]
  },
  {
   "cell_type": "markdown",
   "id": "8b17e4a2-cedf-496d-bc4b-97c4cfde7410",
   "metadata": {},
   "source": [
    "05. add sort in multiple columns"
   ]
  },
  {
   "cell_type": "code",
   "execution_count": null,
   "id": "243413a1-9b07-4a85-b8ec-4884481761ac",
   "metadata": {},
   "outputs": [],
   "source": [
    "%%sql\n",
    "\n",
    "SELECT FirstName, LastName, Email\n",
    "from Employee\n",
    "Order by FirstName DESC, LastName ASC\n"
   ]
  },
  {
   "cell_type": "markdown",
   "id": "437ec98b-5943-43cf-a752-b40231f18b0f",
   "metadata": {},
   "source": [
    "06. Limit the number of query results\n",
    "keyword: LIMIT\n",
    "note: this keyword should comes after ORDER BY clause (if used)"
   ]
  },
  {
   "cell_type": "code",
   "execution_count": null,
   "id": "3484f242-8200-4085-a1ec-e9bb718beff9",
   "metadata": {},
   "outputs": [],
   "source": [
    "%%sql\n",
    "\n",
    "SELECT FirstName, LastName, Email\n",
    "from Customer\n",
    "ORDER BY FirstName desc\n",
    "LIMIT 5"
   ]
  }
 ],
 "metadata": {
  "kernelspec": {
   "display_name": "Python 3 (ipykernel)",
   "language": "python",
   "name": "python3"
  },
  "language_info": {
   "codemirror_mode": {
    "name": "ipython",
    "version": 3
   },
   "file_extension": ".py",
   "mimetype": "text/x-python",
   "name": "python",
   "nbconvert_exporter": "python",
   "pygments_lexer": "ipython3",
   "version": "3.11.4"
  }
 },
 "nbformat": 4,
 "nbformat_minor": 5
}
