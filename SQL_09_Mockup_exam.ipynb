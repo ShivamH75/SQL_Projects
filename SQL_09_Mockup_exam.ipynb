{
 "cells": [
  {
   "cell_type": "code",
   "execution_count": null,
   "id": "c8ada6b7-b5af-41e8-ab26-45029cbdfe2c",
   "metadata": {},
   "outputs": [],
   "source": [
    "# import required libraries\n",
    "import sqlite3\n",
    "\n",
    "# load the sql module to iPython\n",
    "%load_ext sql\n",
    "\n",
    "# something called as 'Cell Magic' concept\n",
    "\n",
    "# load the database file here\n",
    "%sql sqlite:///WSDA_Music.db"
   ]
  },
  {
   "cell_type": "markdown",
   "id": "eddcbeb9-197c-499c-a52e-fe0d5a7bea36",
   "metadata": {},
   "source": [
    "#Start running the SQL queries from cell below.\n",
    "Mention the %%sql before each query."
   ]
  },
  {
   "cell_type": "markdown",
   "id": "cc0fc47b-899b-4b05-bba4-c1f913076f52",
   "metadata": {},
   "source": [
    "Q1. top 5 genre with maximum average"
   ]
  },
  {
   "cell_type": "code",
   "execution_count": null,
   "id": "784e9d16-e9b7-4e92-9730-fec3c6a0b72c",
   "metadata": {},
   "outputs": [],
   "source": [
    "%%sql\n",
    "\n",
    "SELECT\n",
    "\tg.Name as Genre, avg(t.Milliseconds) as AverageDuration\n",
    "FROM\n",
    "\tGenre as g\n",
    "JOIN\n",
    "\tTrack as t\n",
    "ON\n",
    "\tg.GenreId = t.GenreId\n",
    "GROUP By\n",
    "\tg.Name\n",
    "ORDER BY \n",
    "\tAverageDuration DESC\n",
    "LIMIT 5"
   ]
  },
  {
   "cell_type": "markdown",
   "id": "7461b194-55bd-4eda-8265-7ea401e7a645",
   "metadata": {},
   "source": [
    "Q2. find top spending customers"
   ]
  },
  {
   "cell_type": "code",
   "execution_count": null,
   "id": "5e361798-0ab7-4ce5-9aba-9c3a1576f255",
   "metadata": {},
   "outputs": [],
   "source": [
    "%%sql\n",
    "\n",
    "SELECT \n",
    "\tc.CustomerId, c.FirstName, c.LastName, sum(i.total) as TotalPurchaseAmount\n",
    "FROM\n",
    "\tCustomer as c\n",
    "JOIN \n",
    "\tInvoice as i\n",
    "ON\t\n",
    "\tc.CustomerId = i.CustomerId\n",
    "GROUP BY\n",
    "\tc.CustomerId, c.FirstName, c.LastName\n",
    "-- mutiple values used to avoid duplicate sustomers\n",
    "ORDER BY\n",
    "\tTotalPurchaseAmount DESC"
   ]
  },
  {
   "cell_type": "code",
   "execution_count": null,
   "id": "430c4658-44c0-4ea2-a7ad-435bec4a2869",
   "metadata": {},
   "outputs": [],
   "source": [
    "Q3. find employees who have supported the most number of employees"
   ]
  },
  {
   "cell_type": "code",
   "execution_count": null,
   "id": "e739c110-bf8d-432a-abc2-50e242a2c5f6",
   "metadata": {},
   "outputs": [],
   "source": [
    "%%sql\n",
    "\n",
    "SELECT \n",
    "\te.EmployeeId, e.FirstName, e.LastName, \n",
    "\tcount(c.CustomerId) AS NumberOfCustomers\n",
    "FROM\n",
    "\tEmployee as e\n",
    "JOIN \n",
    "\tCustomer as c\n",
    "ON\t\n",
    "\te.EmployeeId = c.SupportRepId\n",
    "GROUP BY \n",
    "\te.EmployeeId, e.FirstName, e.LastName\n",
    "ORDER BY\n",
    "\tNumberOfCustomers DESC\n"
   ]
  }
 ],
 "metadata": {
  "kernelspec": {
   "display_name": "Python 3 (ipykernel)",
   "language": "python",
   "name": "python3"
  },
  "language_info": {
   "codemirror_mode": {
    "name": "ipython",
    "version": 3
   },
   "file_extension": ".py",
   "mimetype": "text/x-python",
   "name": "python",
   "nbconvert_exporter": "python",
   "pygments_lexer": "ipython3",
   "version": "3.11.4"
  }
 },
 "nbformat": 4,
 "nbformat_minor": 5
}
