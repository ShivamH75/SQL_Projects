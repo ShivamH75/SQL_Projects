{
 "cells": [
  {
   "cell_type": "code",
   "execution_count": null,
   "id": "c8ada6b7-b5af-41e8-ab26-45029cbdfe2c",
   "metadata": {},
   "outputs": [],
   "source": [
    "# import required libraries\n",
    "import sqlite3\n",
    "\n",
    "# load the sql module to iPython\n",
    "%load_ext sql\n",
    "\n",
    "# something called as 'Cell Magic' concept\n",
    "\n",
    "# load the database file here\n",
    "%sql sqlite:///WSDA_Music.db"
   ]
  },
  {
   "cell_type": "markdown",
   "id": "eddcbeb9-197c-499c-a52e-fe0d5a7bea36",
   "metadata": {},
   "source": [
    "#Start running the SQL queries from cell below.\n",
    "Mention the %%sql before each query."
   ]
  },
  {
   "cell_type": "markdown",
   "id": "1af77591-c7e8-4fbd-a14f-1e3b32340d98",
   "metadata": {},
   "source": [
    "Data Manipulation Language (DML): \n",
    "SQL Statements used to alter the data stored in the tables of database\n",
    "Add: INSERT\n",
    "Modify: UPDATE\n",
    "Delete: DELETE"
   ]
  },
  {
   "cell_type": "markdown",
   "id": "c17fd8e6-9a06-4c3b-be10-37b87a789cdd",
   "metadata": {},
   "source": [
    "insert a new artist into Artst table\n",
    "\n",
    "Syntax: \n",
    "INSERT INTO\n",
    "\tTable_Name (Column_Name)\n",
    "VALUES \n",
    "\t('Value_1'), ('Value_2')"
   ]
  },
  {
   "cell_type": "code",
   "execution_count": null,
   "id": "71df2107-cd31-41e5-bf9b-f642462e7e04",
   "metadata": {},
   "outputs": [],
   "source": [
    "%%sql \n",
    "\n",
    "INSERT INTO\n",
    "\tArtist (Name)\n",
    "VALUES \n",
    "\t('Jordan Taylor'), ('Biggie Smalls')"
   ]
  },
  {
   "cell_type": "code",
   "execution_count": null,
   "id": "aac0fead-38e6-4941-85db-a7e7ecd10608",
   "metadata": {},
   "outputs": [],
   "source": [
    "%%sql\n",
    "\n",
    "select * from artist\n",
    "order by artistid desc"
   ]
  },
  {
   "cell_type": "markdown",
   "id": "afa0e7e4-7775-4299-9aba-ad24724e6d5f",
   "metadata": {},
   "source": [
    "update user \n",
    "\n",
    "UPDATE is used with WHERE clause\n",
    "NOTE: Imp to use WHERE clause, otherwise all the rows will be updated with set values."
   ]
  },
  {
   "cell_type": "code",
   "execution_count": null,
   "id": "46cb1b8b-d952-4b21-930f-72c00ca0bfe5",
   "metadata": {},
   "outputs": [],
   "source": [
    "%%sql\n",
    "\n",
    "UPDATE\n",
    "\tArtist\n",
    "SET \n",
    "    Name = 'Jason Taylor'\n",
    "WHERE \n",
    "    ArtistID = 276"
   ]
  },
  {
   "cell_type": "markdown",
   "id": "5f8c9657-f205-4540-a31d-4e7ef3a08686",
   "metadata": {},
   "source": [
    "#delete a user\n",
    "\n",
    "DELETE\n",
    "NOTE: use with WHERE clause"
   ]
  },
  {
   "cell_type": "code",
   "execution_count": null,
   "id": "b38b4fce-bd58-4e81-945f-8ec7f437d99e",
   "metadata": {},
   "outputs": [],
   "source": [
    "%%sql\n",
    "\n",
    "DELETE FROM \n",
    "    Artist\n",
    "WHERE\n",
    "    ArtistID = 276"
   ]
  },
  {
   "cell_type": "code",
   "execution_count": null,
   "id": "0b77f2fe-68af-4dcf-9beb-13ed9db9cd27",
   "metadata": {},
   "outputs": [],
   "source": []
  }
 ],
 "metadata": {
  "kernelspec": {
   "display_name": "Python 3 (ipykernel)",
   "language": "python",
   "name": "python3"
  },
  "language_info": {
   "codemirror_mode": {
    "name": "ipython",
    "version": 3
   },
   "file_extension": ".py",
   "mimetype": "text/x-python",
   "name": "python",
   "nbconvert_exporter": "python",
   "pygments_lexer": "ipython3",
   "version": "3.11.4"
  }
 },
 "nbformat": 4,
 "nbformat_minor": 5
}
